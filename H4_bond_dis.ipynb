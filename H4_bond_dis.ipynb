{
 "cells": [
  {
   "cell_type": "code",
   "execution_count": 1,
   "id": "ba222e7d",
   "metadata": {},
   "outputs": [],
   "source": [
    "import numpy     as  np\n",
    "\n",
    "import f_shadow  as sh\n",
    "import f_fermi   as fm\n",
    "import f_molchem as cm\n",
    "\n",
    "import os\n",
    "import matplotlib.pyplot as plt\n",
    "\n",
    "from openfermion.ops.operators import FermionOperator\n",
    "from openfermion.transforms import get_fermion_operator\n",
    "from openfermion.chem       import MolecularData\n",
    "from openfermion.linalg     import get_ground_state, get_sparse_operator, get_number_preserving_sparse_operator\n",
    "from openfermionpyscf       import run_pyscf"
   ]
  },
  {
   "cell_type": "code",
   "execution_count": 2,
   "id": "cb9fe27f",
   "metadata": {},
   "outputs": [],
   "source": [
    "np.set_printoptions(precision=4,suppress=True)\n",
    "np.set_printoptions(linewidth=np.inf)"
   ]
  },
  {
   "cell_type": "code",
   "execution_count": 33,
   "id": "47c719d2",
   "metadata": {},
   "outputs": [],
   "source": [
    "# Set molecule parameters.\n",
    "basis = 'sto-6g'\n",
    "multiplicity = 1\n",
    "\n",
    "# Set calculation parameters.\n",
    "run_scf  = 1\n",
    "run_mp2  = 1\n",
    "run_cisd = 0\n",
    "run_ccsd = 0\n",
    "run_fci  = 1\n",
    "delete_input = True\n",
    "delete_output = True\n",
    "\n",
    "# Generate molecule at different bond lengths.\n",
    "hf_energies = []\n",
    "fci_energies = []\n",
    "fermion_energies = []\n",
    "bond_lengths = []\n",
    "\n",
    "#we assume Li-H molecule\n",
    "ll = 8\n",
    "L0 = range(ll)\n",
    "\n",
    "nn = 4 \n",
    "\n",
    "Op2, Op4 \t= fm.Fermi_op(ll,nn)\n",
    "\n",
    "# RECONSTRUCTION\n",
    "\n",
    "vec_scale = [1,4,10,20]\n",
    "vec_meas  = [-1]\n",
    "vec_unit  = [100]"
   ]
  },
  {
   "cell_type": "code",
   "execution_count": 34,
   "id": "b5099b18",
   "metadata": {},
   "outputs": [],
   "source": [
    "data = []            \n",
    "\n",
    "for bond_length in np.linspace(0.5, 2.5, num=20):\n",
    "\n",
    "    geometry = [('H', (0., 0., -bond_length)), ('H', (0., 0., 0.)), ('H', (0., 0., bond_length)), ('H', (0., 0., 2*bond_length))]\n",
    "    molecule = MolecularData(geometry, basis, multiplicity, description=str(round(bond_length, 2)))\n",
    "\n",
    "    # Run pyscf.\n",
    "    molecule = run_pyscf(molecule,\n",
    "                         run_scf=run_scf,\n",
    "                         run_mp2=run_mp2,\n",
    "                         run_cisd=run_cisd,\n",
    "                         run_ccsd=run_ccsd,\n",
    "                         run_fci=run_fci)\n",
    "\n",
    "    molecular_hamiltonian = molecule.get_molecular_hamiltonian()\n",
    "\n",
    "    fermion_hamiltonian = get_fermion_operator(molecular_hamiltonian)\n",
    "    fermion_hamiltonian.compress()\n",
    "    sparse_hamiltonian  = get_number_preserving_sparse_operator(fermion_hamiltonian, num_qubits=ll, num_electrons=nn)\n",
    "    E_0, psi            = get_ground_state(sparse_hamiltonian)\n",
    "    psih                = np.conjugate(psi)    \n",
    "\n",
    "###### hamiltonian creation and check\n",
    "    E0, H2, H4  = cm.ham_coef(molecular_hamiltonian)\n",
    "\n",
    "##### GS energy, 1st state, kinetic, potential, psi, ham \n",
    "    cor_2   = np.array([[   np.einsum( 'x,xy,y',  psih, Op2[i][j].todense(), psi, optimize=True) for i in L0] for j in L0])\n",
    "    cor_4   = np.array([[[[ np.einsum( 'x,xy,y',  psih, Op4[i][j][k][l].todense(), psi, optimize=True)   for i in L0] for j in L0] for k in L0] for l in L0])\n",
    "\n",
    "    KK = cm.RECO_chem_K(H2,cor_2)\n",
    "    VV = cm.RECO_chem_V(H4,cor_4)\n",
    "    \n",
    "    # RECONSTRUCTION\n",
    "    \n",
    "    for scale in vec_scale:\n",
    "\n",
    "        for n_M in vec_meas:\n",
    "\n",
    "            NU  = np.max(vec_unit) \n",
    "            ene = sh.shad_en(cor_2, cor_4, ll*scale, NU, n_M, H2, H4)                    \n",
    "\n",
    "            for n_U in vec_unit:\n",
    "\n",
    "                EE = ene[:n_U].reshape(n_U,2).T\n",
    "                EE2 = EE[0]\n",
    "                EE4 = EE[1]\n",
    "\n",
    "                MME_2 = np.mean(EE2)\n",
    "                SSE_2 = np.std (EE2)\n",
    "\n",
    "                MME_4 = np.mean(EE4)\n",
    "                SSE_4 = np.std (EE4)\n",
    "\n",
    "                E_tot = E0+MME_2+MME_4\n",
    "                DE_tot = np.std(EE2+EE4)\n",
    "\n",
    "                data.append([bond_length, scale, n_M, n_U, E_0, E_tot, DE_tot, E0])\n",
    "\n",
    "                [bond_length, scale, n_M, n_U, E_0, E_tot, DE_tot, E0]\n",
    "\n",
    "data = np.array(data) "
   ]
  },
  {
   "cell_type": "code",
   "execution_count": 35,
   "id": "cc17d887",
   "metadata": {},
   "outputs": [],
   "source": [
    "data1 = data[data[:,1]==vec_scale[0]]\n",
    "data2 = data[data[:,1]==vec_scale[1]]\n",
    "data3 = data[data[:,1]==vec_scale[2]]\n",
    "data4 = data[data[:,1]==vec_scale[3]]"
   ]
  },
  {
   "cell_type": "code",
   "execution_count": 36,
   "id": "a36bc0e6",
   "metadata": {},
   "outputs": [],
   "source": [
    "R = data1[:,0]\n",
    "E_ex  = data1[:,4]"
   ]
  },
  {
   "cell_type": "code",
   "execution_count": 38,
   "id": "7551b09f",
   "metadata": {},
   "outputs": [
    {
     "data": {
      "text/plain": [
       "<matplotlib.legend.Legend at 0x7f92c840afd0>"
      ]
     },
     "execution_count": 38,
     "metadata": {},
     "output_type": "execute_result"
    },
    {
     "data": {
      "image/png": "[encoded data removed]",
      "text/plain": [
       "<Figure size 640x480 with 1 Axes>"
      ]
     },
     "metadata": {},
     "output_type": "display_data"
    }
   ],
   "source": [
    "# We plot the first line of the reconstructed one body density matrix\n",
    "\n",
    "x  = R\n",
    "\n",
    "y  = data1[:,5]\n",
    "dy = data1[:,6]/np.sqrt(data1[:,3])\n",
    "\n",
    "plt.errorbar(x, y, yerr=dy, marker='o', linestyle='None', label='scale ='+str(vec_scale[0]));\n",
    "\n",
    "y  = data2[:,5]\n",
    "dy = data2[:,6]/np.sqrt(data2[:,3])\n",
    "\n",
    "plt.errorbar(x, y, yerr=dy, marker='o', linestyle='None', label='scale ='+str(vec_scale[1]));\n",
    "\n",
    "y  = data3[:,5]\n",
    "dy = data3[:,6]/np.sqrt(data3[:,3])\n",
    "\n",
    "plt.errorbar(x, y, yerr=dy, marker='o', linestyle='None', label='scale ='+str(vec_scale[2]));\n",
    "\n",
    "y  = data4[:,5]\n",
    "dy = data4[:,6]/np.sqrt(data4[:,3])\n",
    "\n",
    "plt.errorbar(x, y, yerr=dy, marker='o', linestyle='None', label='scale ='+str(vec_scale[3]));\n",
    "\n",
    "\n",
    "real_y = E_ex\n",
    "plt.plot(x, real_y, label='exact')\n",
    "\n",
    "plt.xlabel(\"R\")\n",
    "plt.ylabel(\"Energy (Ångström)\")\n",
    "\n",
    "plt.legend()"
   ]
  }
 ],
 "metadata": {
  "kernelspec": {
   "display_name": "Python 3 (ipykernel)",
   "language": "python",
   "name": "python3"
  },
  "language_info": {
   "codemirror_mode": {
    "name": "ipython",
    "version": 3
   },
   "file_extension": ".py",
   "mimetype": "text/x-python",
   "name": "python",
   "nbconvert_exporter": "python",
   "pygments_lexer": "ipython3",
   "version": "3.9.15"
  }
 },
 "nbformat": 4,
 "nbformat_minor": 5
}
