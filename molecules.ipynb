{
 "cells": [
  {
   "cell_type": "code",
   "execution_count": 30,
   "id": "c70f12f2",
   "metadata": {},
   "outputs": [],
   "source": [
    "import numpy     as  np\n",
    "import f_VQE     as vqe\n",
    "import f_shadow  as sh\n",
    "import f_fermi   as fm\n",
    "import f_molchem as cm\n",
    "import os\n",
    "import matplotlib.pyplot as plt"
   ]
  },
  {
   "cell_type": "code",
   "execution_count": 2,
   "id": "3954a2d4",
   "metadata": {},
   "outputs": [],
   "source": [
    "from openfermion.ops.operators import FermionOperator\n",
    "from openfermion.transforms import get_fermion_operator\n",
    "from openfermion.chem       import MolecularData\n",
    "from openfermion.linalg     import get_ground_state, get_sparse_operator\n",
    "from openfermionpyscf       import run_pyscf"
   ]
  },
  {
   "cell_type": "code",
   "execution_count": 3,
   "id": "b17c2634",
   "metadata": {},
   "outputs": [],
   "source": [
    "np.set_printoptions(precision=6,suppress=True)\n",
    "np.set_printoptions(linewidth=np.inf)"
   ]
  },
  {
   "cell_type": "code",
   "execution_count": 4,
   "id": "161eecf3",
   "metadata": {},
   "outputs": [],
   "source": [
    "# Set molecule parameters.\n",
    "basis = 'sto-3g'\n",
    "multiplicity = 1\n",
    "n_points = 20\n",
    "bond_length_interval = 3.5 / n_points\n",
    "\n",
    "# Set calculation parameters.\n",
    "run_scf  = 1\n",
    "run_mp2  = 1\n",
    "run_cisd = 0\n",
    "run_ccsd = 0\n",
    "run_fci  = 1\n",
    "delete_input = True\n",
    "delete_output = True\n",
    "\n",
    "# Generate molecule at different bond lengths.\n",
    "hf_energies = []\n",
    "fci_energies = []\n",
    "fermion_energies = []\n",
    "bond_lengths = []"
   ]
  },
  {
   "cell_type": "code",
   "execution_count": 34,
   "id": "b442db65",
   "metadata": {},
   "outputs": [],
   "source": [
    "# RECONSTRUCTION\n",
    "\n",
    "vec_scale = [20]\n",
    "vec_meas  = [-1]\n",
    "vec_unit  = [200]"
   ]
  },
  {
   "cell_type": "code",
   "execution_count": 35,
   "id": "577bb163",
   "metadata": {},
   "outputs": [],
   "source": [
    "#we assume Li-H molecule\n",
    "ll=4\n",
    "L0 = range(ll)\n",
    "\n",
    "Op2, Op4, Op4_com, Base_FOCK  \t= fm.Fermi_CC_full(ll)\n",
    "\n",
    "####### hamiltonian check\n",
    "def Op2_OF(i,j,ll):\n",
    "    OP = FermionOperator(str(i)+'^ '+str(j),   1.)\n",
    "    OP = get_sparse_operator( OP, n_qubits=ll ).todense()\n",
    "    return OP\n",
    "\n",
    "def Op4_OF(i,j,k,l,ll):\n",
    "    OP = FermionOperator(str(i)+'^ '+str(j)+'^ '+str(k)+' '+str(l),   1.)\n",
    "    OP = get_sparse_operator( OP, n_qubits=ll ).todense()\n",
    "    return OP\n",
    "\n",
    "h2  = np.array([[   np.sum(np.abs(Op2[i,j]-Op2_OF(i,j,ll))) for i in L0] for j in L0])\n",
    "h4  = np.array([[[[ np.sum(np.abs(Op4[i,j,k,l]-Op4_OF(i,j,k,l,ll))) for i in L0] for j in L0] for k in L0] for l in L0])\n",
    "\n",
    "if np.sum(np.abs(h2))>10**-6:\n",
    "    print('wrong OPerators')\n",
    "    quit()\n",
    "\n",
    "if np.sum(np.abs(h4))>10**-6:\n",
    "    print('wrong OPerators')\n",
    "    quit()"
   ]
  },
  {
   "cell_type": "code",
   "execution_count": 42,
   "id": "3356ae3c",
   "metadata": {},
   "outputs": [
    {
     "name": "stdout",
     "output_type": "stream",
     "text": [
      "0.5 -1 200 -6.060464975653382\n",
      "0.675 -1 200 -6.365836968791638\n",
      "0.85 -1 200 -6.521578482002524\n",
      "1.025 -1 200 -6.62208364657944\n",
      "1.2 -1 200 -6.69475000668769\n",
      "1.375 -1 200 -6.750015308001572\n",
      "1.55 -1 200 -6.793329395247991\n",
      "1.725 -1 200 -6.828050963781402\n",
      "1.9 -1 200 -6.856427393656567\n",
      "2.075 -1 200 -6.880018315074107\n",
      "2.25 -1 200 -6.899928000789025\n",
      "2.425 -1 200 -6.916953040728903\n",
      "2.6 -1 200 -6.931678882233631\n",
      "2.775 -1 200 -6.944543562500631\n",
      "2.95 -1 200 -6.9558804687533184\n",
      "3.125 -1 200 -6.965947478772067\n",
      "3.3 -1 200 -6.974947100074865\n",
      "3.475 -1 200 -6.983040606499967\n",
      "3.65 -1 200 -6.990358109923637\n",
      "3.825 -1 200 -6.997005825759197\n"
     ]
    }
   ],
   "source": [
    "data = []\n",
    "\n",
    "for point in range(0, n_points):\n",
    "    bond_length = bond_length_interval * float(point) + 0.5\n",
    "    bond_lengths += [bond_length]\n",
    "    geometry = [('Li', (0., 0., 0.)), ('H', (0., 0., bond_length))]\n",
    "    molecule = MolecularData(\n",
    "        geometry, basis, multiplicity,\n",
    "        description=str(round(bond_length, 2)))\n",
    "\n",
    "    # Run pyscf.\n",
    "    molecule = run_pyscf(molecule,\n",
    "                         run_scf=run_scf,\n",
    "                         run_mp2=run_mp2,\n",
    "                         run_cisd=run_cisd,\n",
    "                         run_ccsd=run_ccsd,\n",
    "                         run_fci=run_fci)\n",
    "    active_space_start = 1\n",
    "    active_space_stop  = 3\n",
    "\n",
    "\n",
    "    # Get the Hamiltonian in the active space.\n",
    "    molecular_hamiltonian = molecule.get_molecular_hamiltonian(\n",
    "        occupied_indices=range(active_space_start),\n",
    "        active_indices=range(active_space_start, active_space_stop))\n",
    "\n",
    "    fermion_hamiltonian = get_fermion_operator(molecular_hamiltonian)\n",
    "    fermion_hamiltonian.compress()\n",
    "    sparse_hamiltonian  = get_sparse_operator(fermion_hamiltonian)\n",
    "    energy, state       = get_ground_state(sparse_hamiltonian)\n",
    "    \n",
    "###### hamiltonian creation and check\n",
    "    E0, H2, H4  = cm.ham_coef(molecular_hamiltonian)\n",
    "        \n",
    "##### GS energy, 1st state, kinetic, potential, psi, ham \n",
    "    E_0s,  E_1s,  Eex_0,  Eex_2,  Eex_4,  psi,  HAM = cm.chem_HAM(E0, H2,  H4,  Op2, Op4_com)\n",
    "    psih        = np.conjugate(psi)\n",
    "\n",
    "    cor_2       = np.einsum( 'x,ijxy  ,y->ij',  psih, Op2,     psi, optimize=True)\n",
    "    nn          = np.trace(cor_2)\n",
    "\n",
    "    cor_4       = np.einsum( 'x,ijklxy,y->ijkl',psih, Op4_com, psi, optimize=True)\n",
    "    cor_4_TT    = np.einsum( 'x,ijklxy,y->ijkl',psih, Op4,     psi, optimize=True)\n",
    "\n",
    "\n",
    "    # CHECKS\n",
    "\n",
    "    if np.abs(energy-E_0s)>10**-6:\n",
    "        print('wrong Hamiltonian')\n",
    "        quit()\n",
    "\n",
    "    if np.abs(E0-Eex_0)>10**-6:\n",
    "        print('wrong Hamiltonian')\n",
    "        quit()\n",
    "\n",
    "    if np.abs(energy-(Eex_0+Eex_2+Eex_4))>10**-6:\n",
    "        print(energy, Eex_0+Eex_2+Eex_4,'wrong Hamiltonian')\n",
    "        quit()\n",
    "\n",
    "    a = np.sum(np.array([[ cor_4 [i,i,j,j] - cor_2[i,i]*cor_2[j,j] for i in L0] for j in L0] ))\n",
    "    if np.abs(a)>10**-6:\n",
    "        print(a, 'no part cons')\n",
    "        quit()\n",
    "\n",
    "    # RECONSTRUCTION\n",
    "\n",
    "    for scale in vec_scale:\n",
    "\n",
    "        for n_M in vec_meas:\n",
    "            \n",
    "            NU  = np.max(vec_unit) \n",
    "            ene = sh.shad_en(cor_2, cor_4, ll*scale, NU, n_M, H2, H4)                    \n",
    "            \n",
    "            for n_U in vec_unit:\n",
    "\n",
    "                EE = ene[:n_U].reshape(n_U,2).T\n",
    "                EE2 = EE[0]\n",
    "                EE4 = EE[1]\n",
    "\n",
    "                MME_2 = np.mean(EE2)\n",
    "                SSE_2 = np.std (EE2)\n",
    "\n",
    "                MME_4 = np.mean(EE4)\n",
    "                SSE_4 = np.std (EE4)\n",
    "\n",
    "                E_tot = E0+MME_2+MME_4\n",
    "                DE_tot = np.std(EE2+EE4)\n",
    "\n",
    "                print(round(bond_length, 4), n_M, n_U, Eex_0)\n",
    "                \n",
    "                data.append([bond_length, scale, n_M, n_U, E_0s, E_tot, DE_tot])\n",
    "\n",
    "data = np.array(data)                "
   ]
  },
  {
   "cell_type": "code",
   "execution_count": 43,
   "id": "8f2bf429",
   "metadata": {},
   "outputs": [
    {
     "data": {
      "text/plain": [
       "<matplotlib.legend.Legend at 0x7fab1dccc100>"
      ]
     },
     "execution_count": 43,
     "metadata": {},
     "output_type": "execute_result"
    },
    {
     "data": {
      "image/png": "[encoded data removed]",
      "text/plain": [
       "<Figure size 432x288 with 1 Axes>"
      ]
     },
     "metadata": {
      "needs_background": "light"
     },
     "output_type": "display_data"
    }
   ],
   "source": [
    "# We plot the first line of the reconstructed one body density matrix\n",
    "\n",
    "x  = data[:,0].real\n",
    "y  = data[:,5].real\n",
    "dy = data[:,6].real\n",
    "\n",
    "real_y = data[:,4].real\n",
    "\n",
    "plt.errorbar(x, y, yerr=dy, marker='o', linestyle='None', label='reconstruct');\n",
    "plt.plot(x, real_y, label='exact')\n",
    "\n",
    "#plt.xlabel(\"j\")\n",
    "#plt.ylabel(\"C(0,j)\")\n",
    "\n",
    "plt.legend()"
   ]
  },
  {
   "cell_type": "code",
   "execution_count": null,
   "id": "c883fec4",
   "metadata": {},
   "outputs": [],
   "source": []
  }
 ],
 "metadata": {
  "kernelspec": {
   "display_name": "Python 3 (ipykernel)",
   "language": "python",
   "name": "python3"
  },
  "language_info": {
   "codemirror_mode": {
    "name": "ipython",
    "version": 3
   },
   "file_extension": ".py",
   "mimetype": "text/x-python",
   "name": "python",
   "nbconvert_exporter": "python",
   "pygments_lexer": "ipython3",
   "version": "3.8.13"
  }
 },
 "nbformat": 4,
 "nbformat_minor": 5
}
