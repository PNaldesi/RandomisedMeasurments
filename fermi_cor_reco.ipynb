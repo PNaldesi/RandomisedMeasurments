{
 "cells": [
  {
   "cell_type": "code",
   "execution_count": null,
   "id": "09c16f94",
   "metadata": {},
   "outputs": [],
   "source": [
    "import  numpy  as np\n",
    "import  f_shadow as sh\n",
    "import  matplotlib.pyplot as plt"
   ]
  },
  {
   "cell_type": "code",
   "execution_count": null,
   "id": "70b74798-57b5-4c82-8493-cfe56dd01828",
   "metadata": {},
   "outputs": [],
   "source": [
    "np.set_printoptions(precision=4,suppress=True)\n",
    "np.set_printoptions(linewidth=np.inf)"
   ]
  },
  {
   "cell_type": "code",
   "execution_count": null,
   "id": "b5099b18",
   "metadata": {},
   "outputs": [],
   "source": [
    "n_p = 2         # number of particles\n",
    "n_l = 10        # number of lattice sites\n",
    "n_u = 100       # number of random unitary transformations\n",
    "n_m = -1        # number of projective measurements per random unitary\n",
    "                #... if n_u<0 we consider n_u=infinity\n",
    "n_lbig = n_l*10 # size of larger empty lattice\n",
    "\n",
    "NL = range(n_l)\n",
    "\n",
    "# creating a one body density matrix to be reconstructed\n",
    "dm_1  = np.array([[ np.cos((i-j)*np.pi/4)/(1+np.abs(i-j)) for i in NL] for j in NL]) \n",
    "dm_1 *= n_p/np.trace(dm_1)\n",
    "\n",
    "# creating a one body density matrix to be reconstructed\n",
    "dm_2  = np.array([[[[ np.cos((i-j+k-l)*np.pi/4)/(1+np.abs(i-j+k-l)) for i in NL] for j in NL] for k in NL] for l in NL]) \n",
    "dm_2 *= n_p**2/np.sum([dm_2[i,i,i,i] for i in NL])\n",
    "\n",
    "# reconstruction of the matrix by averaging measurements after random unitary\n",
    "# MM -> reconstructed matrix\n",
    "# SS -> stantistical errors\n",
    "mat1, mat2 = sh.shadow(dm_1, dm_2, n_lbig, n_u, n_m)\n",
    "\n",
    "MM1 = np.mean(mat1, axis=0)\n",
    "MM2 = np.mean(mat2, axis=0)\n",
    "\n",
    "SS1 = np.std(mat1, axis=0)/np.sqrt(n_u)\n",
    "SS2 = np.std(mat2, axis=0)/np.sqrt(n_u)"
   ]
  },
  {
   "cell_type": "code",
   "execution_count": null,
   "id": "533b1d84",
   "metadata": {},
   "outputs": [],
   "source": [
    "# we define a reconstruction accuracy \n",
    "acc_1 = np.abs(dm_1-MM1.real)\n",
    "acc_2 = np.abs(dm_2-MM2.real)"
   ]
  },
  {
   "cell_type": "code",
   "execution_count": null,
   "id": "2767ca7d",
   "metadata": {},
   "outputs": [],
   "source": [
    "# We plot the first line of the reconstructed one body density matrix\n",
    "\n",
    "x  = np.array([x for x in range(n_l)])\n",
    "\n",
    "y  = MM1[0].real\n",
    "dy = SS1[0]\n",
    "\n",
    "real_y = dm_1[0]\n",
    "\n",
    "plt.errorbar(x, y, yerr=dy, marker='o', linestyle='None', label='reconstruct');\n",
    "plt.plot(x, real_y, label='exact')\n",
    "\n",
    "plt.xlabel(\"j\")\n",
    "plt.ylabel(\"C(0,j)\")\n",
    "\n",
    "plt.legend()"
   ]
  },
  {
   "cell_type": "code",
   "execution_count": null,
   "id": "9b366cfc-163f-4c31-96dd-778e0f262ecb",
   "metadata": {},
   "outputs": [],
   "source": [
    "# We plot the accuracy for the full matrix C_ij\n",
    "\n",
    "fig = plt.figure()\n",
    "ax = fig.add_subplot(111)\n",
    "cax = ax.matshow(acc_1, interpolation='nearest', cmap='Blues')\n",
    "\n",
    "plt.xlabel(\"j\")\n",
    "plt.ylabel(\"i\")\n",
    "\n",
    "fig.colorbar(cax)"
   ]
  },
  {
   "cell_type": "code",
   "execution_count": null,
   "id": "124691d3",
   "metadata": {},
   "outputs": [],
   "source": [
    "# We plot the statistical error for the full matrix C_ij\n",
    "\n",
    "fig = plt.figure()\n",
    "ax = fig.add_subplot(111)\n",
    "cax = ax.matshow(SS1, cmap='Blues', interpolation='none')\n",
    "\n",
    "plt.xlabel(\"j\")\n",
    "plt.ylabel(\"i\")\n",
    "\n",
    "fig.colorbar(cax)"
   ]
  },
  {
   "cell_type": "code",
   "execution_count": null,
   "id": "d19ebd52",
   "metadata": {},
   "outputs": [],
   "source": []
  },
  {
   "cell_type": "code",
   "execution_count": null,
   "id": "8bd3ad1b",
   "metadata": {},
   "outputs": [],
   "source": [
    "# We plot the i,j,k line of the reconstructed one body density matrix\n",
    "\n",
    "i=0\n",
    "j=0\n",
    "k=0\n",
    "\n",
    "x  = np.array([x for x in range(n_l)])\n",
    "\n",
    "y  = MM2[i,j,k].real\n",
    "dy = SS2[i,j,k]\n",
    "\n",
    "real_y = dm_2[i,j,k]\n",
    "\n",
    "plt.errorbar(x, y, yerr=dy, marker='o', linestyle='None', label='reconstruct');\n",
    "plt.plot(x, real_y, label='exact')\n",
    "\n",
    "plt.xlabel(\"j\")\n",
    "plt.ylabel(\"C(0,0,0,j)\")\n",
    "\n",
    "plt.legend()"
   ]
  },
  {
   "cell_type": "code",
   "execution_count": null,
   "id": "6bb70272",
   "metadata": {},
   "outputs": [],
   "source": [
    "# We plot the accuracy for the full matrix C_ij\n",
    "\n",
    "fig = plt.figure()\n",
    "ax = fig.add_subplot(111)\n",
    "cax = ax.matshow(acc_2[i,j], interpolation='nearest', cmap='Blues')\n",
    "\n",
    "plt.xlabel(\"j\")\n",
    "plt.ylabel(\"i\")\n",
    "\n",
    "fig.colorbar(cax)"
   ]
  },
  {
   "cell_type": "code",
   "execution_count": null,
   "id": "19d8c485",
   "metadata": {},
   "outputs": [],
   "source": [
    "# We plot the statistical error for the full matrix C_ij\n",
    "\n",
    "fig = plt.figure()\n",
    "ax  = fig.add_subplot(111)\n",
    "cax = ax.matshow(SS2[i,j], cmap='Blues', interpolation='none')\n",
    "\n",
    "plt.xlabel(\"j\")\n",
    "plt.ylabel(\"i\")\n",
    "\n",
    "fig.colorbar(cax)"
   ]
  },
  {
   "cell_type": "code",
   "execution_count": null,
   "id": "2bf77013",
   "metadata": {},
   "outputs": [],
   "source": []
  },
  {
   "cell_type": "code",
   "execution_count": null,
   "id": "7551b09f",
   "metadata": {},
   "outputs": [],
   "source": []
  }
 ],
 "metadata": {
  "kernelspec": {
   "display_name": "Python 3 (ipykernel)",
   "language": "python",
   "name": "python3"
  },
  "language_info": {
   "codemirror_mode": {
    "name": "ipython",
    "version": 3
   },
   "file_extension": ".py",
   "mimetype": "text/x-python",
   "name": "python",
   "nbconvert_exporter": "python",
   "pygments_lexer": "ipython3",
   "version": "3.9.15"
  }
 },
 "nbformat": 4,
 "nbformat_minor": 5
}
